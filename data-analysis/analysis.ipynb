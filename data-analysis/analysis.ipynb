{
 "cells": [
  {
   "cell_type": "code",
   "execution_count": null,
   "id": "b22dea7c-2895-408e-8cf8-7a5e2c9758fa",
   "metadata": {},
   "outputs": [],
   "source": [
    "import os\n",
    "import glob\n",
    "import tarfile\n",
    "import string\n",
    "\n",
    "import numpy as np\n",
    "import pandas as pd\n",
    "from dask import dataframe as dd\n",
    "\n",
    "from matplotlib import pyplot as plt\n",
    "import seaborn as sns"
   ]
  },
  {
   "cell_type": "code",
   "execution_count": null,
   "id": "2109e672-0202-431b-8d49-8b2d5b985abb",
   "metadata": {},
   "outputs": [],
   "source": [
    "def add_hatches_to_plot(ax, groups_iterable, legend = True):\n",
    "    num_unique = len(np.unique(groups_iterable))\n",
    "    hatches = ['/', '//', '+', '-', 'x', '\\\\', '*', 'o', 'O', '.']\n",
    "    hatchnum = 0\n",
    "    for i, bar in enumerate(ax.patches):\n",
    "        if i % num_unique == 0:\n",
    "            hatch = hatches[hatchnum]\n",
    "            hatchnum += 1\n",
    "        bar.set_hatch(hatch)\n",
    "    if legend:\n",
    "        ax.legend(loc='best', shadow = True)"
   ]
  },
  {
   "cell_type": "code",
   "execution_count": null,
   "id": "cf2dd1c3-e5d2-45c0-b09d-54afb388a0ad",
   "metadata": {},
   "outputs": [],
   "source": [
    "tests = glob.glob('test_results/*/*/*')\n",
    "os.makedirs('data',exist_ok=True)\n",
    "!rm -rf data/*pockets \n",
    "os.makedirs('data/3pockets',exist_ok=True)\n",
    "os.makedirs('data/2pockets',exist_ok=True)\n",
    "os.makedirs('data/1pockets',exist_ok=True)\n",
    "for test in tests:\n",
    "    with tarfile.open(test) as tf:\n",
    "        if '3pockets' in test:\n",
    "            tf.extractall('data/3pockets')\n",
    "        elif '2pockets' in test:\n",
    "            tf.extractall('data/2pockets')\n",
    "        elif '1pockets' in test:\n",
    "            tf.extractall('data/1pockets')"
   ]
  },
  {
   "cell_type": "code",
   "execution_count": null,
   "id": "5ff3c9ab-298f-420b-90c3-b427c5ac936e",
   "metadata": {},
   "outputs": [],
   "source": [
    "tests = glob.glob('data/*/*/txinfo.csv')\n",
    "print(f'found {len(tests)} tests')\n",
    "tests_data = [pd.read_csv(test) for test in tests]\n",
    "tests_data[0].info()"
   ]
  },
  {
   "cell_type": "code",
   "execution_count": null,
   "id": "98a985e2-bb66-4f95-95f0-efaacd9d2a33",
   "metadata": {},
   "outputs": [],
   "source": [
    "def extract_test_configs(path: str) -> tuple[str, int, int]:\n",
    "    test_filename = path.split('/')[-2].split('-')\n",
    "    test_technique = test_filename[0]\n",
    "    test_config = test_filename[1].split('tps')\n",
    "    test_tps = int(test_config[0])\n",
    "    test_assets = int(test_config[1].rstrip(string.ascii_letters+'.'))\n",
    "    return (test_technique, test_tps, test_assets)\n",
    "\n",
    "for i, test in enumerate(tests):\n",
    "    tech, tps, assets = extract_test_configs(test)\n",
    "    tests_data[i]['asset_count'] = assets\n",
    "    tests_data[i]['technique'] = tech\n",
    "    tests_data[i]['send_rate'] = tps"
   ]
  },
  {
   "cell_type": "code",
   "execution_count": null,
   "id": "2af60ea8-3e1e-4d9d-96a7-8c143eeb7d0e",
   "metadata": {},
   "outputs": [],
   "source": [
    "def extract_test_scenario(test_data: pd.DataFrame) -> str:\n",
    "    funcs = test_data['invoked_func'].value_counts()\n",
    "    tx_funcs = 0\n",
    "    for func in funcs.index.values:\n",
    "        if 'transact' in func:\n",
    "            tx_funcs += 1\n",
    "    if tx_funcs == 0:\n",
    "        raise ValueError('No invoked functon data')\n",
    "    return '1pockets' if tx_funcs == 1 else '2pockets' if tx_funcs == 2 else '3pockets'\n",
    "\n",
    "for test in tests_data:\n",
    "    test['scenario'] = extract_test_scenario(test)"
   ]
  },
  {
   "cell_type": "code",
   "execution_count": null,
   "id": "d5e8bf58-6401-405b-93ff-c3555b674d9f",
   "metadata": {},
   "outputs": [],
   "source": [
    "def extract_status(test_data: pd.DataFrame) -> pd.DataFrame:\n",
    "    df = test_data.copy()\n",
    "    cols_to_drop = []\n",
    "    if 'read_write_set_error' in df.columns:\n",
    "        df['status'] = np.select([df['read_write_set_error'] == 'MISMATCH', \n",
    "                                  df['status'] == 'failed', \n",
    "                                  df['status'] == 'success'],\n",
    "                                 ['mismatch', 'mvcc', 'success']\n",
    "                                )\n",
    "        cols_to_drop.append('read_write_set_error')\n",
    "    else:\n",
    "        df['status'] = np.where(df['status'] == 'failed', 'mvcc', 'success',)\n",
    "    for col in df.columns:\n",
    "        if 'commit' in col:\n",
    "            cols_to_drop.append(col)\n",
    "    df.drop(cols_to_drop, axis=1, inplace = True)\n",
    "    return df\n",
    "for i, test in enumerate(tests_data):\n",
    "    tests_data[i] = extract_status(test)"
   ]
  },
  {
   "cell_type": "code",
   "execution_count": null,
   "id": "cd4bbed8-7849-47cb-8ed5-bcb608770406",
   "metadata": {},
   "outputs": [],
   "source": [
    "all_tests_merged = pd.concat(tests_data)\n",
    "all_tests_merged"
   ]
  },
  {
   "cell_type": "code",
   "execution_count": null,
   "id": "d22e524a-eded-4f4c-8baf-31dd463e46ac",
   "metadata": {},
   "outputs": [],
   "source": [
    "plot = all_tests_merged.groupby(['scenario', 'asset_count', 'send_rate', 'technique', 'status']).size().reset_index().rename(columns={0:'amount'})\n",
    "plot = plot[plot['status'] == 'mvcc']\n",
    "plot['freq'] = plot['send_rate'] / plot['asset_count']\n",
    "g = sns.relplot(plot, x = 'freq', y = 'amount', hue = 'technique', col = 'scenario', kind = 'line', facet_kws={'sharey': True, 'sharex': False})"
   ]
  },
  {
   "cell_type": "code",
   "execution_count": null,
   "id": "407ffd97-c334-473b-a8b7-65057e3d8d64",
   "metadata": {},
   "outputs": [],
   "source": [
    "plot = all_tests_merged.groupby(['scenario', 'asset_count', 'send_rate', 'technique', 'status']).size().reset_index().rename(columns={0:'amount'})\n",
    "plot = plot[plot['status'] == 'mvcc']\n",
    "plot['freq'] = plot['send_rate'] / plot['asset_count']\n",
    "g = sns.lineplot(plot, x = 'freq', y = 'amount', hue = 'technique',  style = 'scenario', markers = True)# facet_kws={'sharey': True, 'sharex': False})"
   ]
  },
  {
   "cell_type": "code",
   "execution_count": null,
   "id": "66bea2ad-512d-4939-a42f-0c65ec47c036",
   "metadata": {},
   "outputs": [],
   "source": [
    "plot = all_tests_merged.groupby(['scenario', 'asset_count', 'send_rate', 'technique', 'status']).size().reset_index().rename(columns={0:'amount'})\n",
    "plot = plot[plot['status'] == 'mvcc']\n",
    "naive_filler = [np.nan for i in range(0,12)]\n",
    "plot['pct_mvcc'] = plot['amount'] / (10_000 / 100)\n",
    "plot = plot.sort_values(by=['scenario', 'asset_count', 'send_rate', 'technique'])\n",
    "scenarios = plot[plot['technique'] == 'naive']['scenario'].values\n",
    "line_3 = np.append(np.linspace(0, 6.66, num =12, endpoint = True), [np.nan for i in range(0,24)])\n",
    "\n",
    "pct_mvcc_total = plot[(plot['technique'] == 'total')]['pct_mvcc'].values\n",
    "plot_pairs = pd.DataFrame({'pct_mvcc_total': pct_mvcc_total,\n",
    "                          'pct_mvcc_affinity': np.append(plot[plot['technique'] == 'affinity']['pct_mvcc'].values, naive_filler),\n",
    "                          'pct_mvcc_naive': plot[plot['technique'] == 'naive']['pct_mvcc'].values,\n",
    "                          'scenario': scenarios,\n",
    "                           'line_1': pct_mvcc_total,\n",
    "                           'line_2': pct_mvcc_total*2,\n",
    "                           'line_3y': line_3*3,\n",
    "                           'line_3x': line_3,\n",
    "                          })\n",
    "plot_pairs.loc[plot_pairs['line_2'] > 22, 'line_2'] = np.nan\n",
    "\n",
    "fig, axes = plt.subplots(figsize=(15, 5), ncols = 3)\n",
    "p1 = sns.scatterplot(plot_pairs, x='pct_mvcc_total', y='pct_mvcc_naive', style = 'scenario', ax=axes[0])\n",
    "p1.set_xlabel('mvcc conflicts percentage (total technique)')\n",
    "p1.set_ylabel('mvcc conflicts percentage (naive technique)')\n",
    "p2 = sns.lineplot(plot_pairs, y='line_1', x='line_1', color='r', ax=axes[0])\n",
    "p2 = sns.lineplot(plot_pairs, y='line_2', x='line_1', color='g', linestyle='--', ax=axes[0])\n",
    "p2 = sns.lineplot(plot_pairs, y='line_3y', x='line_3x', color='b', linestyle=':', ax=axes[0])\n",
    "\n",
    "two_scen_pairs = plot_pairs.loc[plot_pairs['scenario']!='3pockets']\n",
    "\n",
    "p1 = sns.scatterplot(two_scen_pairs, x='pct_mvcc_affinity', y='pct_mvcc_naive', style = 'scenario', ax=axes[1])\n",
    "p1.set_xlabel('mvcc conflicts percentage (affinity technique)')\n",
    "p1.set_ylabel('mvcc conflicts percentage (naive technique)')\n",
    "p2 = sns.lineplot(plot_pairs, y='line_1', x='line_1', color='r', ax=axes[1])\n",
    "p2 = sns.lineplot(plot_pairs, y='line_2', x='line_1', color='g', linestyle='--', ax=axes[1])\n",
    "\n",
    "p1 = sns.scatterplot(two_scen_pairs, x='pct_mvcc_total', y='pct_mvcc_affinity', style = 'scenario', ax=axes[2])\n",
    "p1.set_xlabel('mvcc conflicts percentage (total technique)')\n",
    "p1.set_ylabel('mvcc conflicts percentage (affintiy technique)')\n",
    "p2 = sns.lineplot(plot_pairs, y='line_1', x='line_1', color='r', ax=axes[2])\n",
    "fig.suptitle('MVCC conflict percentage of total transactions')\n",
    "fig.savefig('plots/mvcc_scenarios.png', bbox_inches = 'tight')"
   ]
  },
  {
   "cell_type": "code",
   "execution_count": null,
   "id": "1e23219c-13c3-410f-b221-f548dcbe2a28",
   "metadata": {},
   "outputs": [],
   "source": [
    "plot = all_tests_merged.groupby(['scenario', 'technique', 'status', 'function']).size().reset_index()\n",
    "plot = plot[plot['function'].str.contains('trans')&(plot['status'] == 'mvcc')].drop(['function', 'status'], axis=1)\n",
    "plot = plot.rename(columns={0:'mean_pct_mvcc'})\n",
    "plot['mean_pct_mvcc'] /= (120_000/100)\n",
    "plot = plot.pivot(index='scenario', columns='technique', values='mean_pct_mvcc')\n",
    "sns.heatmap(plot, annot = True)\n",
    "plt.title('Mean mvcc percentages')"
   ]
  },
  {
   "cell_type": "code",
   "execution_count": null,
   "id": "0658644d-be33-421d-b251-aeb4c1820293",
   "metadata": {},
   "outputs": [],
   "source": [
    "all_tests_merged.scenario.drop_duplicates()"
   ]
  },
  {
   "cell_type": "code",
   "execution_count": null,
   "id": "85661ced-a8c2-4f4d-98f3-69facb8ee619",
   "metadata": {},
   "outputs": [],
   "source": [
    "latency = dd.from_pandas(all_tests_merged, npartitions=10)\n",
    "latency['latency'] = latency.time_end - latency.time_create\n",
    "latency = latency[~latency['function'].astype(str).str.contains('ping')]\n",
    "\n",
    "latency = latency.compute()\n",
    "latency = latency.sort_values(by='technique')\n",
    "ax = sns.boxplot(latency, y = 'latency', x = 'technique', fliersize=2.5)\n",
    "add_hatches_to_plot(ax, ['0'],  legend = False)\n",
    "plt.title('End to end latency for each technique')\n",
    "plt.ylabel('latency (ms)')\n",
    "ax.get_figure().savefig('plots/latency_techniques.png', bbox_inches = 'tight')"
   ]
  },
  {
   "cell_type": "code",
   "execution_count": null,
   "id": "9b7dfc29-170f-466f-9f80-8f5f74ed0e06",
   "metadata": {},
   "outputs": [],
   "source": [
    "from sqlalchemy import create_engine\n",
    "DATABASE_HOST=\"172.21.0.2\"\n",
    "DATABASE_PORT=\":5432/\"\n",
    "DATABASE_DATABASE=\"fabricexplorer\"\n",
    "DATABASE_USERNAME=\"hppoc\"\n",
    "DATABASE_PASSWORD=\"password\"\n",
    "\n",
    "#initializing resources\n",
    "engine = create_engine('postgresql://'+DATABASE_USERNAME+\n",
    "                       ':'+DATABASE_PASSWORD+'@'\n",
    "                       +DATABASE_HOST\n",
    "                       +DATABASE_PORT\n",
    "                       +DATABASE_DATABASE)\n",
    "\n",
    "txQuery = \"SELECT * FROM transactions\"\n",
    "txDf = pd.read_sql(txQuery,con=engine)\n",
    "txDf.info()"
   ]
  },
  {
   "cell_type": "code",
   "execution_count": null,
   "id": "af90905e-051d-443b-892f-6bc4bea1a506",
   "metadata": {},
   "outputs": [],
   "source": [
    "write_set_sizes = txDf.loc[:, ['chaincodename', 'write_set', 'chaincode_proposal_input']]\n",
    "write_set_sizes = write_set_sizes.loc[write_set_sizes['chaincodename'].str.contains('micro')]\n",
    "write_set_sizes['function'] = write_set_sizes['chaincode_proposal_input'].astype(str).apply(lambda x: x.split(',')[0])\n",
    "write_set_sizes = write_set_sizes.explode('write_set')\n",
    "write_set_sizes = write_set_sizes.loc[~write_set_sizes['write_set'].astype(str).str.contains('lscc')]\n",
    "write_set_sizes['write_set'] = write_set_sizes['write_set'].apply(lambda x: x['set'])\n",
    "write_set_sizes = write_set_sizes.explode('write_set').dropna()\n",
    "write_set_sizes['key'] = write_set_sizes['write_set'].apply(lambda x: str(x['key']).replace(u'\\x00', '|'))\n",
    "write_set_sizes['value'] = write_set_sizes['write_set'].apply(lambda x: x['value'])\n",
    "write_set_sizes = write_set_sizes.loc[:,['chaincodename', 'function', 'key', 'value']]\n",
    "write_set_sizes['key_bytes'] = write_set_sizes['key'].str.encode('utf8').apply(lambda x: len(x))\n",
    "write_set_sizes['value_bytes'] = write_set_sizes['value'].str.encode('utf8').apply(lambda x: len(x))\n",
    "write_set_sizes = write_set_sizes.reset_index().rename(columns={'index':'tx_index'})\n",
    "write_set_sizes['total_bytes'] = write_set_sizes['value_bytes'] + write_set_sizes['key_bytes']\n",
    "write_set_sizes = write_set_sizes.groupby(['tx_index', 'chaincodename', 'function']).sum().reset_index().drop('tx_index', axis = 1)\n",
    "write_set_sizes = write_set_sizes.groupby(['chaincodename', 'function']).mean().reset_index()\n",
    "write_set_sizes.loc[write_set_sizes['function'] == '74726107361637457697468500630657431', 'function'] = 'transferWithPocket1'\n",
    "write_set_sizes.loc[write_set_sizes['function'] == '7472610736163745769746850063065743233', 'function'] = 'transferWithPocket23'\n",
    "write_set_sizes.loc[write_set_sizes['function'] == '6372656174654465004173736574', 'function'] = 'createAsset'\n",
    "write_set_sizes.to_csv('data/total_write_sets.csv', index = False)\n",
    "write_set_sizes"
   ]
  },
  {
   "cell_type": "code",
   "execution_count": null,
   "id": "52a7881a-7909-4f91-88d1-6f1669bea208",
   "metadata": {},
   "outputs": [],
   "source": [
    "print(len('\\x00he\\x00llo\\x00'.encode('utf8').hex()))"
   ]
  },
  {
   "cell_type": "code",
   "execution_count": null,
   "id": "10bca0ed-af7d-49cd-8765-f918d7b160be",
   "metadata": {},
   "outputs": [],
   "source": [
    "set_sizes = txDf.loc[:,['chaincodename', 'write_set', 'chaincode_proposal_input']]\n",
    "set_sizes['function'] = set_sizes['chaincode_proposal_input'].apply(lambda x: x.split(',')[0])\n",
    "set_sizes['write_set'] = set_sizes['write_set'].apply(pd.json_normalize)\n",
    "set_sizes['write_set'] = set_sizes['write_set'].apply(lambda x: x.values[-1])\n",
    "set_sizes = set_sizes.explode('write_set')\n",
    "set_sizes = set_sizes[set_sizes['write_set'].astype(str).str.contains('\\[')]\n",
    "set_sizes = set_sizes[set_sizes['write_set'].astype(str).str.contains('key')]\n",
    "set_sizes = set_sizes.explode('write_set')\n",
    "set_sizes['value'] = set_sizes['write_set'].apply(lambda x: x['value'])\n",
    "set_sizes['key'] = set_sizes['write_set'].apply(lambda x: x['key'])\n",
    "set_sizes['key'] = set_sizes['key'].apply(lambda x: x.replace(u'\\x00', '|'))\n",
    "set_sizes = set_sizes[['chaincodename', 'key','value', 'function']]\n",
    "set_sizes = set_sizes[~set_sizes['key'].str.contains('micro')]\n",
    "set_sizes['total'] = set_sizes['key'].str.cat(set_sizes['value'])\n",
    "set_sizes['size'] = set_sizes['total'].apply(lambda x: len(x.encode('utf8')))\n",
    "set_sizes"
   ]
  },
  {
   "cell_type": "code",
   "execution_count": null,
   "id": "cdd33ad0-55aa-44e5-a835-c9fd53c26f2c",
   "metadata": {},
   "outputs": [],
   "source": [
    "set_sizes.to_csv('data/affinity_sizes.csv', sep = ';')"
   ]
  },
  {
   "cell_type": "code",
   "execution_count": null,
   "id": "cd7c7e1c-a733-49a5-b7d0-1b4f837e13e1",
   "metadata": {},
   "outputs": [],
   "source": [
    "set_sizes_csv = glob.glob('data/*sizes.csv')\n",
    "set_sizes = [pd.read_csv(csv, sep=';') for csv in set_sizes_csv]\n",
    "for i, csv in enumerate(set_sizes_csv):\n",
    "    cc = os.path.basename(csv).split('_')[0]\n",
    "    set_sizes[i]['chaincode'] = cc\n",
    "set_sizes = pd.concat(set_sizes)\n",
    "set_sizes"
   ]
  },
  {
   "cell_type": "code",
   "execution_count": null,
   "id": "a53f4874-ae0d-44bf-af36-7d9e99db4f22",
   "metadata": {},
   "outputs": [],
   "source": [
    "set_sizes = set_sizes.rename(columns={'Unnamed: 0': 'idx'})\n",
    "set_sizes = set_sizes.groupby(['chaincode', 'function', 'idx',]).sum('size').reset_index()\n",
    "set_sizes = set_sizes.groupby(['chaincode', 'function']).mean('size').reset_index()\n",
    "set_sizes\n",
    "set_sizes.loc[set_sizes['function'] == '74726107361637457697468500630657431', 'function'] = 'transferWithPocket1'\n",
    "set_sizes.loc[set_sizes['function'] == '7472610736163745769746850063065743233', 'function'] = 'transferWithPocket23'\n",
    "set_sizes.loc[set_sizes['function'] == '6372656174654465004173736574', 'function'] = 'createAsset'\n",
    "set_sizes = set_sizes.rename(columns={'chaincode': 'technique'})\n",
    "set_sizes = set_sizes[['technique', 'function', 'size']]\n",
    "set_sizes"
   ]
  },
  {
   "cell_type": "code",
   "execution_count": null,
   "id": "eba61203-ded2-44fd-8aa3-c54cb88eac0b",
   "metadata": {},
   "outputs": [],
   "source": [
    "ax = sns.barplot(set_sizes, x = 'function', y = 'size', hue = 'technique')\n",
    "set_sizes = set_sizes.sort_values(by='technique')\n",
    "add_hatches_to_plot(ax, set_sizes['technique'])\n",
    "plt.title('Mean write-set sizes')\n",
    "plt.ylabel('size (bytes)')\n",
    "ax.get_figure().savefig('plots/write_set_techniques.png', bbox_inches = 'tight')"
   ]
  },
  {
   "cell_type": "code",
   "execution_count": null,
   "id": "e1ade2ce-93c8-428d-82fd-42108e75a805",
   "metadata": {},
   "outputs": [],
   "source": [
    "set_sizes_csv = glob.glob('data/*sizes.csv')\n",
    "set_sizes = [pd.read_csv(csv, sep=';') for csv in set_sizes_csv]\n",
    "for i, csv in enumerate(set_sizes_csv):\n",
    "    cc = os.path.basename(csv).split('_')[0]\n",
    "    set_sizes[i]['chaincode'] = cc\n",
    "set_sizes = pd.concat(set_sizes)\n",
    "set_sizes.loc[set_sizes['function'] == '74726107361637457697468500630657431', 'function'] = 'transferWithPocket1'\n",
    "set_sizes.loc[set_sizes['function'] == '7472610736163745769746850063065743233', 'function'] = 'transferWithPocket23'\n",
    "set_sizes.loc[set_sizes['function'] == '6372656174654465004173736574', 'function'] = 'createAsset'\n",
    "set_sizes['count'] =     set_sizes['key'].str.count('\\|') \n",
    "set_sizes['object_type'] = np.select([\n",
    "    pd.isna(set_sizes['key'].str.count('\\|')),\n",
    "    set_sizes['key'].str.count('\\|') == 3,\n",
    "    (set_sizes['key'].str.count('\\|') > 3) & (set_sizes['value'].str.contains('{')),\n",
    "    True\n",
    "],['total', 'proxy', 'complex_partition', 'simple_partition'])\n",
    "set_sizes"
   ]
  },
  {
   "cell_type": "code",
   "execution_count": null,
   "id": "05cba962-d7e2-4c24-8f4b-efc550607cc7",
   "metadata": {},
   "outputs": [],
   "source": [
    "obj_sizes = set_sizes.groupby('object_type').agg({'size':'mean'}).T\n",
    "plot = {\n",
    "    'transferWithPocket1':[\n",
    "        obj_sizes['proxy'].iloc[0] + obj_sizes['simple_partition'].iloc[0],\n",
    "        obj_sizes['proxy'].iloc[0] + obj_sizes['simple_partition'].iloc[0],\n",
    "        obj_sizes['total'].iloc[0],\n",
    "    ],\n",
    "    'transferWithPocket23':[\n",
    "        obj_sizes['proxy'].iloc[0] + obj_sizes['complex_partition'].iloc[0],  \n",
    "        obj_sizes['proxy'].iloc[0] + obj_sizes['simple_partition'].iloc[0]*2,\n",
    "        obj_sizes['total'].iloc[0],\n",
    "    ],\n",
    "    'technique':['affinity', 'total', 'naive']\n",
    "}\n",
    "plot = pd.DataFrame(plot)\n",
    "plot = plot.melt(['technique'],['transferWithPocket23', 'transferWithPocket1']).rename(columns={'variable':'function', 'value':'size'})\n",
    "plot = plot.sort_values(by=['technique'])\n",
    "ax = sns.barplot(plot, x='function', y='size', hue = 'technique')\n",
    "add_hatches_to_plot(ax, plot['function'])\n",
    "plt.title('Mean read-set sizes')\n",
    "plt.ylabel('size (bytes)')\n",
    "ax.get_figure().savefig('plots/read_set_techniques.png', bbox_inches = 'tight')"
   ]
  }
 ],
 "metadata": {
  "kernelspec": {
   "display_name": "Python 3 (ipykernel)",
   "language": "python",
   "name": "python3"
  },
  "language_info": {
   "codemirror_mode": {
    "name": "ipython",
    "version": 3
   },
   "file_extension": ".py",
   "mimetype": "text/x-python",
   "name": "python",
   "nbconvert_exporter": "python",
   "pygments_lexer": "ipython3",
   "version": "3.9.15"
  }
 },
 "nbformat": 4,
 "nbformat_minor": 5
}
